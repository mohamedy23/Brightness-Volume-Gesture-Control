{
 "cells": [
  {
   "cell_type": "code",
   "execution_count": 2,
   "id": "58a90cb2",
   "metadata": {},
   "outputs": [
    {
     "name": "stdout",
     "output_type": "stream",
     "text": [
      "(-65.25, 0.0, 0.03125)\n"
     ]
    },
    {
     "data": {
      "text/plain": [
       "0"
      ]
     },
     "execution_count": 2,
     "metadata": {},
     "output_type": "execute_result"
    }
   ],
   "source": [
    "from ctypes import cast, POINTER\n",
    "from comtypes import CLSCTX_ALL\n",
    "from pycaw.pycaw import AudioUtilities, IAudioEndpointVolume\n",
    "devices = AudioUtilities.GetSpeakers()\n",
    "interface = devices.Activate(\n",
    "    IAudioEndpointVolume._iid_, CLSCTX_ALL, None)\n",
    "volume = cast(interface, POINTER(IAudioEndpointVolume))\n",
    "#volume.GetMute()\n",
    "#volume.GetMasterVolumeLevel()\n",
    "print(volume.GetVolumeRange())\n",
    "volume.SetMasterVolumeLevel(-20, None)\n"
   ]
  },
  {
   "cell_type": "code",
   "execution_count": 3,
   "id": "1d833d15",
   "metadata": {},
   "outputs": [],
   "source": [
    "import cv2\n",
    "import numpy as np\n",
    "import time\n",
    "import math\n",
    "import screen_brightness_control as sbc"
   ]
  },
  {
   "cell_type": "code",
   "execution_count": 4,
   "id": "a4fb8d38",
   "metadata": {},
   "outputs": [],
   "source": [
    "from ipynb.fs.full.HandTrackingModule import HandDetector"
   ]
  },
  {
   "cell_type": "code",
   "execution_count": 10,
   "id": "c97cd421",
   "metadata": {},
   "outputs": [],
   "source": [
    "cap = cv2.VideoCapture(0)\n",
    "cap.set(3,1280)\n",
    "detector = HandDetector()\n",
    "radius1 = 100\n",
    "radius2 = 100\n",
    "radius3 = 100\n",
    "colorLevel = 100\n",
    "while True:\n",
    "    success,frame = cap.read()\n",
    "    if not success:\n",
    "        break\n",
    "    frame = cv2.flip(frame,1)\n",
    "    hands,frame = detector.findHands(frame)\n",
    "    if hands:\n",
    "        hand1 = hands[0]\n",
    "        lmList = hand1[\"lmList\"]\n",
    "        x1,y1 = lmList[4][0],lmList[4][1]\n",
    "        x2,y2 = lmList[8][0],lmList[8][1]\n",
    "        cv2.circle(frame,(x1,y1),10,(200,0,200),-1)\n",
    "        cv2.circle(frame,(x2,y2),10,(200,0,200),-1)\n",
    "        cv2.line(frame,(x1,y1),(x2,y2),(255,0,255),2)\n",
    "        length = math.hypot((x1-x2),(y1-y2))\n",
    "        #range from 20 to 500\n",
    "        if length >= 0 and length <= 50:\n",
    "            color1,color2,color3 = 155,155,155\n",
    "        elif length >= 50 and length <= 150:\n",
    "            color1,color2,color3 = 155,155,255\n",
    "        elif length >= 150 and length <= 350 :\n",
    "            color1,color2,color3 = 155,255,255\n",
    "        else:\n",
    "            color1,color2,color3 = 255,255,255\n",
    "        volumeLevel = np.interp(length,(20,320),(-65.25,0))\n",
    "        brightnessLevel = np.interp(length,(0,320),(0,100))\n",
    "        colorLevel = np.interp(length,(20,320),(0,255))\n",
    "        volume.SetMasterVolumeLevel(volumeLevel, None)\n",
    "        sbc.set_brightness(int(brightnessLevel))\n",
    "        \n",
    "        draw_ellipse(frame,80, (200,600), (80,80), 175, 120, 250, (color1,color1,color1),4)\n",
    "        draw_ellipse(frame,50, (170,600), (80,80), 175, 120, 250, (color2,color2,color2),4)\n",
    "        draw_ellipse(frame,20, (140,600), (80,80), 175, 120, 250, (color3,color3,color3),4)\n",
    "        \n",
    "        #cv2.putText(frame,str(int(length)),(50,50),4,2,(0,0,0),2)\n",
    "        cv2.circle(frame,(200,200),int(100),(0,int(colorLevel),int(colorLevel)),3)\n",
    "        cv2.circle(frame,(200,200),int(70),(0,int(colorLevel),int(colorLevel)),3)\n",
    "        cv2.circle(frame,(200,200),int(40),(0,int(colorLevel),int(colorLevel)),3)\n",
    "    \n",
    "\n",
    "    #cv2.ellipse(frame, center, axes, angle, startAngle, endAngle, color,2)\n",
    "    \n",
    "    cv2.imshow(\"frame\",frame)\n",
    "    if cv2.waitKey(1) & 0xFF == ord('q'):\n",
    "        break\n",
    "        \n",
    "cap.release()\n",
    "cv2.destroyAllWindows()"
   ]
  },
  {
   "cell_type": "code",
   "execution_count": 1,
   "id": "2ca81c84",
   "metadata": {},
   "outputs": [],
   "source": [
    "def draw_ellipse(frame,radius, center, axes, angle, startAngle, endAngle, color,thickness):\n",
    "    r=radius\n",
    "    ax = (int(radius),int(radius))\n",
    "    ang=angle;\n",
    "    sAng=startAngle;\n",
    "    eAng=endAngle;\n",
    "    cent=center\n",
    "    c=color\n",
    "\n",
    "    cv2.ellipse(frame, cent, ax, ang, sAng, eAng, c,thickness)\n",
    "    "
   ]
  },
  {
   "cell_type": "code",
   "execution_count": 61,
   "id": "aec28bd2",
   "metadata": {},
   "outputs": [],
   "source": [
    "sbc.set_brightness(0)"
   ]
  },
  {
   "cell_type": "code",
   "execution_count": null,
   "id": "e2f66458",
   "metadata": {},
   "outputs": [],
   "source": []
  }
 ],
 "metadata": {
  "kernelspec": {
   "display_name": "Python 3 (ipykernel)",
   "language": "python",
   "name": "python3"
  },
  "language_info": {
   "codemirror_mode": {
    "name": "ipython",
    "version": 3
   },
   "file_extension": ".py",
   "mimetype": "text/x-python",
   "name": "python",
   "nbconvert_exporter": "python",
   "pygments_lexer": "ipython3",
   "version": "3.9.7"
  }
 },
 "nbformat": 4,
 "nbformat_minor": 5
}
